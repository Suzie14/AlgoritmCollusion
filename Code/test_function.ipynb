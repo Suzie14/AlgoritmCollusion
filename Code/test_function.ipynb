{
 "cells": [
  {
   "cell_type": "code",
   "execution_count": 3,
   "metadata": {},
   "outputs": [],
   "source": [
    "import matplotlib.pyplot as plt \n",
    "import numpy as np \n",
    "import pandas as pd"
   ]
  },
  {
   "cell_type": "code",
   "execution_count": 4,
   "metadata": {},
   "outputs": [],
   "source": [
    "def A(pN,pM, Xi,m):\n",
    "    p1 = pN-Xi*(pM-pN)\n",
    "    pm = pM+Xi*(pM-pN)\n",
    "    A = [p1]\n",
    "    for i in range (1,m):\n",
    "        new = p1 + (i-1)*(pm-p1)/(m-1)\n",
    "        A.append(new)\n",
    "    return A"
   ]
  },
  {
   "cell_type": "code",
   "execution_count": 5,
   "metadata": {},
   "outputs": [],
   "source": [
    "A = A(1.78,2,0.1,15)"
   ]
  },
  {
   "cell_type": "code",
   "execution_count": 6,
   "metadata": {},
   "outputs": [
    {
     "data": {
      "text/plain": [
       "15"
      ]
     },
     "execution_count": 6,
     "metadata": {},
     "output_type": "execute_result"
    }
   ],
   "source": [
    "len(A)"
   ]
  },
  {
   "cell_type": "code",
   "execution_count": 9,
   "metadata": {},
   "outputs": [],
   "source": [
    "def S(A): \n",
    "    S = []\n",
    "    for i in range (len(A)):\n",
    "        for j in range (len(A)): \n",
    "            S.append([A[i],A[j]])\n",
    "    return S\n",
    "    "
   ]
  },
  {
   "cell_type": "code",
   "execution_count": 10,
   "metadata": {},
   "outputs": [],
   "source": [
    "S = S(A)"
   ]
  },
  {
   "cell_type": "code",
   "execution_count": 11,
   "metadata": {},
   "outputs": [],
   "source": [
    "s_ex = S[100]"
   ]
  },
  {
   "cell_type": "code",
   "execution_count": 12,
   "metadata": {},
   "outputs": [],
   "source": [
    "def pi(s): \n",
    "    return (s[0]-1)*np.exp(4*(2-s[0]))/(np.exp(4*(2-s[0]))+np.exp(4*(2-s[1]))-1)"
   ]
  },
  {
   "cell_type": "code",
   "execution_count": 13,
   "metadata": {},
   "outputs": [
    {
     "data": {
      "text/plain": [
       "0.7188056694679223"
      ]
     },
     "execution_count": 13,
     "metadata": {},
     "output_type": "execute_result"
    }
   ],
   "source": [
    "pi(s_ex)"
   ]
  },
  {
   "cell_type": "code",
   "execution_count": 29,
   "metadata": {},
   "outputs": [],
   "source": [
    "def env(A,pi):\n",
    "    env = np.zeros((len(A),len(A)))\n",
    "    for i in range (len(A)):\n",
    "        for j in range (len(A)):\n",
    "            env[i,j] = pi([A[i],A[j]])\n",
    "    return env       "
   ]
  },
  {
   "cell_type": "code",
   "execution_count": 30,
   "metadata": {},
   "outputs": [
    {
     "data": {
      "text/plain": [
       "array([[0.46785559, 0.46785559, 0.48982103, 0.51211767, 0.53468835,\n",
       "        0.55747289, 0.58040877, 0.60343175, 0.62647662, 0.64947792,\n",
       "        0.67237067, 0.69509113, 0.71757748, 0.73977048, 0.76161406],\n",
       "       [0.46785559, 0.46785559, 0.48982103, 0.51211767, 0.53468835,\n",
       "        0.55747289, 0.58040877, 0.60343175, 0.62647662, 0.64947792,\n",
       "        0.67237067, 0.69509113, 0.71757748, 0.73977048, 0.76161406],\n",
       "       [0.46553375, 0.46553375, 0.48846686, 0.51184964, 0.53562709,\n",
       "        0.55974008, 0.58412587, 0.60871871, 0.63345058, 0.65825186,\n",
       "        0.68305217, 0.70778112, 0.73236915, 0.75674826, 0.7808528 ],\n",
       "       [0.46231851, 0.46231851, 0.48618346, 0.51062704, 0.53559861,\n",
       "        0.56104225, 0.58689721, 0.61309834, 0.63957679, 0.66626064,\n",
       "        0.69307565, 0.71994615, 0.74679581, 0.77354854, 0.80012935],\n",
       "       [0.45823267, 0.45823267, 0.48298553, 0.50845584, 0.53459977,\n",
       "        0.56136718, 0.58870191, 0.61654211, 0.64482069, 0.67346592,\n",
       "        0.70240208, 0.73155024, 0.76082911, 0.79015592, 0.81944735],\n",
       "       [0.45330456, 0.45330456, 0.47889355, 0.5053478 , 0.53263293,\n",
       "        0.56070756, 0.58952323, 0.61902458, 0.64914962, 0.67983008,\n",
       "        0.71099195, 0.74255611, 0.77443907, 0.80655382, 0.83881074],\n",
       "       [0.44756788, 0.44756788, 0.47393375, 0.50132049, 0.5297062 ,\n",
       "        0.55906143, 0.58934903, 0.62052397, 0.65253338, 0.68531663,\n",
       "        0.71880567, 0.75292536, 0.78759408, 0.8227244 , 0.85822388],\n",
       "       [0.44106141, 0.44106141, 0.46813791, 0.49639742, 0.52583357,\n",
       "        0.55643247, 0.58817224, 0.62102263, 0.6549447 , 0.68989067,\n",
       "        0.72580381, 0.7626186 , 0.80026093, 0.83864853, 0.87769151],\n",
       "       [0.43382861, 0.43382861, 0.46154315, 0.49060784, 0.52103506,\n",
       "        0.55283024, 0.58599121, 0.62050752, 0.65635981, 0.69351935,\n",
       "        0.73194755, 0.77159571, 0.81240485, 0.85430568, 0.89721882],\n",
       "       [0.42591713, 0.42591713, 0.45419157, 0.48398661, 0.51533663,\n",
       "        0.54827036, 0.58281008, 0.6189707 , 0.65675893, 0.69617244,\n",
       "        0.73719906, 0.77981606, 0.82398953, 0.86967389, 0.91681152],\n",
       "       [0.41737832, 0.41737832, 0.44612982, 0.47657389, 0.5087701 ,\n",
       "        0.54277456, 0.57863897, 0.61640971, 0.65612679, 0.69782284,\n",
       "        0.74152198, 0.7872388 , 0.83497726, 0.88472969, 0.93647584],\n",
       "       [0.40826656, 0.40826656, 0.43740857, 0.46841474, 0.50137294,\n",
       "        0.53637066, 0.57349422, 0.61282794, 0.65445314, 0.69844709,\n",
       "        0.74488191, 0.79382324, 0.84532901, 0.89944804, 0.9562186 ],\n",
       "       [0.39863865, 0.39863865, 0.42808193, 0.45955866, 0.49318788,\n",
       "        0.52909241, 0.5673984 , 0.60823488, 0.65173313, 0.69802597,\n",
       "        0.74724691, 0.79952918, 0.85500459, 0.91380228, 0.97604728],\n",
       "       [0.38855314, 0.38855314, 0.41820682, 0.45005902, 0.48426256,\n",
       "        0.52097928, 0.5603803 , 0.60264633, 0.64796777, 0.69654494,\n",
       "        0.74858807, 0.80431736, 0.86396284, 0.92776411, 0.99597009],\n",
       "       [0.37806961, 0.37806961, 0.40784228, 0.43997246, 0.47464897,\n",
       "        0.51207606, 0.5524748 , 0.59608448, 0.64316423, 0.69399471,\n",
       "        0.74888006, 0.80814994, 0.87216182, 0.94130353, 1.015996  ]])"
      ]
     },
     "execution_count": 30,
     "metadata": {},
     "output_type": "execute_result"
    }
   ],
   "source": [
    "env(A,pi)"
   ]
  },
  {
   "cell_type": "code",
   "execution_count": 14,
   "metadata": {},
   "outputs": [],
   "source": [
    "Q = np.zeros((len(A),len(S)))"
   ]
  },
  {
   "cell_type": "code",
   "execution_count": 15,
   "metadata": {},
   "outputs": [
    {
     "data": {
      "text/plain": [
       "array([[0., 0., 0., ..., 0., 0., 0.],\n",
       "       [0., 0., 0., ..., 0., 0., 0.],\n",
       "       [0., 0., 0., ..., 0., 0., 0.],\n",
       "       ...,\n",
       "       [0., 0., 0., ..., 0., 0., 0.],\n",
       "       [0., 0., 0., ..., 0., 0., 0.],\n",
       "       [0., 0., 0., ..., 0., 0., 0.]])"
      ]
     },
     "execution_count": 15,
     "metadata": {},
     "output_type": "execute_result"
    }
   ],
   "source": [
    "Q"
   ]
  },
  {
   "cell_type": "code",
   "execution_count": 16,
   "metadata": {},
   "outputs": [],
   "source": [
    "def initQwithLargeConstantValue(Q): \n",
    "    for i in range (len(Q)):\n",
    "        for j in range(len(Q[0])):\n",
    "            Q[i][j]=2\n",
    "    return Q"
   ]
  },
  {
   "cell_type": "code",
   "execution_count": 17,
   "metadata": {},
   "outputs": [],
   "source": [
    "Q2 = initQwithLargeConstantValue(Q)"
   ]
  },
  {
   "cell_type": "code",
   "execution_count": 18,
   "metadata": {},
   "outputs": [
    {
     "data": {
      "text/plain": [
       "array([[2., 2., 2., ..., 2., 2., 2.],\n",
       "       [2., 2., 2., ..., 2., 2., 2.],\n",
       "       [2., 2., 2., ..., 2., 2., 2.],\n",
       "       ...,\n",
       "       [2., 2., 2., ..., 2., 2., 2.],\n",
       "       [2., 2., 2., ..., 2., 2., 2.],\n",
       "       [2., 2., 2., ..., 2., 2., 2.]])"
      ]
     },
     "execution_count": 18,
     "metadata": {},
     "output_type": "execute_result"
    }
   ],
   "source": [
    "Q2"
   ]
  },
  {
   "cell_type": "code",
   "execution_count": 19,
   "metadata": {},
   "outputs": [],
   "source": [
    "#Créer une fonction qui trouve le maximum de Q(s,a)\n",
    "def trouve_max(Q,s_prime):\n",
    "    sol = Q[0][s_prime]\n",
    "    arg = 0\n",
    "    for i in range (1,len(Q)): \n",
    "        if sol <= Q[i][s_prime]:\n",
    "            sol = Q[i][s_prime]\n",
    "            arg = i\n",
    "    return sol, arg        "
   ]
  },
  {
   "cell_type": "code",
   "execution_count": 20,
   "metadata": {},
   "outputs": [
    {
     "data": {
      "text/plain": [
       "(2.0, 14)"
      ]
     },
     "execution_count": 20,
     "metadata": {},
     "output_type": "execute_result"
    }
   ],
   "source": [
    "trouve_max(Q,1)"
   ]
  },
  {
   "cell_type": "code",
   "execution_count": 23,
   "metadata": {},
   "outputs": [],
   "source": [
    "def updateQ(Q,A, S,a_t,s_t, alpha, delta, pi_t, s_t1):\n",
    "    Qbis = Q\n",
    "    for i in range(len(Q)): \n",
    "        for j in range(len(Q[0])):\n",
    "            if i == a_t and j == s_t: #faire attention à différencier valeurs et indices : ici on parle d'indice\n",
    "                Qbis[i][j]= (1-alpha)*Q[i][j] + alpha*(pi(s_t1) + delta*trouve_max(Q,s_t1)[0])\n",
    "                a_t1 = trouve_max(Q,s_t1)[1]\n",
    "\n",
    "    return Qbis, a_t1"
   ]
  },
  {
   "cell_type": "code",
   "execution_count": 24,
   "metadata": {},
   "outputs": [
    {
     "ename": "TypeError",
     "evalue": "'int' object is not subscriptable",
     "output_type": "error",
     "traceback": [
      "\u001b[0;31m---------------------------------------------------------------------------\u001b[0m",
      "\u001b[0;31mTypeError\u001b[0m                                 Traceback (most recent call last)",
      "Cell \u001b[0;32mIn[24], line 1\u001b[0m\n\u001b[0;32m----> 1\u001b[0m updateQ(Q,\u001b[39m1\u001b[39;49m,\u001b[39m0\u001b[39;49m, \u001b[39m0.5\u001b[39;49m, \u001b[39m0.15\u001b[39;49m, \u001b[39m1\u001b[39;49m, \u001b[39m2\u001b[39;49m)\n",
      "Cell \u001b[0;32mIn[23], line 6\u001b[0m, in \u001b[0;36mupdateQ\u001b[0;34m(Q, a_t, s_t, alpha, delta, pi_t, s_t1)\u001b[0m\n\u001b[1;32m      4\u001b[0m     \u001b[39mfor\u001b[39;00m j \u001b[39min\u001b[39;00m \u001b[39mrange\u001b[39m(\u001b[39mlen\u001b[39m(Q[\u001b[39m0\u001b[39m])):\n\u001b[1;32m      5\u001b[0m         \u001b[39mif\u001b[39;00m i \u001b[39m==\u001b[39m a_t \u001b[39mand\u001b[39;00m j \u001b[39m==\u001b[39m s_t: \u001b[39m#faire attention à différencier valeurs et indices : ici on parle d'indice\u001b[39;00m\n\u001b[0;32m----> 6\u001b[0m             Qbis[i][j]\u001b[39m=\u001b[39m (\u001b[39m1\u001b[39m\u001b[39m-\u001b[39malpha)\u001b[39m*\u001b[39mQ[i][j] \u001b[39m+\u001b[39m alpha\u001b[39m*\u001b[39m(pi(s_t1) \u001b[39m+\u001b[39m delta\u001b[39m*\u001b[39mtrouve_max(Q,s_t1)[\u001b[39m0\u001b[39m])\n\u001b[1;32m      7\u001b[0m             a_t1 \u001b[39m=\u001b[39m trouve_max(Q,s_t1)[\u001b[39m1\u001b[39m]\n\u001b[1;32m      9\u001b[0m \u001b[39mreturn\u001b[39;00m Qbis, a_t1\n",
      "Cell \u001b[0;32mIn[12], line 2\u001b[0m, in \u001b[0;36mpi\u001b[0;34m(s)\u001b[0m\n\u001b[1;32m      1\u001b[0m \u001b[39mdef\u001b[39;00m \u001b[39mpi\u001b[39m(s): \n\u001b[0;32m----> 2\u001b[0m     \u001b[39mreturn\u001b[39;00m (s[\u001b[39m0\u001b[39;49m]\u001b[39m-\u001b[39m\u001b[39m1\u001b[39m)\u001b[39m*\u001b[39mnp\u001b[39m.\u001b[39mexp(\u001b[39m4\u001b[39m\u001b[39m*\u001b[39m(\u001b[39m2\u001b[39m\u001b[39m-\u001b[39ms[\u001b[39m0\u001b[39m]))\u001b[39m/\u001b[39m(np\u001b[39m.\u001b[39mexp(\u001b[39m4\u001b[39m\u001b[39m*\u001b[39m(\u001b[39m2\u001b[39m\u001b[39m-\u001b[39ms[\u001b[39m0\u001b[39m]))\u001b[39m+\u001b[39mnp\u001b[39m.\u001b[39mexp(\u001b[39m4\u001b[39m\u001b[39m*\u001b[39m(\u001b[39m2\u001b[39m\u001b[39m-\u001b[39ms[\u001b[39m1\u001b[39m]))\u001b[39m-\u001b[39m\u001b[39m1\u001b[39m)\n",
      "\u001b[0;31mTypeError\u001b[0m: 'int' object is not subscriptable"
     ]
    }
   ],
   "source": [
    "updateQ(Q,A,S,1,0, 0.5, 0.15, 2)"
   ]
  },
  {
   "cell_type": "code",
   "execution_count": null,
   "metadata": {},
   "outputs": [],
   "source": []
  },
  {
   "cell_type": "code",
   "execution_count": null,
   "metadata": {},
   "outputs": [],
   "source": []
  }
 ],
 "metadata": {
  "kernelspec": {
   "display_name": "Python 3",
   "language": "python",
   "name": "python3"
  },
  "language_info": {
   "codemirror_mode": {
    "name": "ipython",
    "version": 3
   },
   "file_extension": ".py",
   "mimetype": "text/x-python",
   "name": "python",
   "nbconvert_exporter": "python",
   "pygments_lexer": "ipython3",
   "version": "3.9.0"
  },
  "orig_nbformat": 4
 },
 "nbformat": 4,
 "nbformat_minor": 2
}
