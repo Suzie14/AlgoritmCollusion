{
 "cells": [
  {
   "cell_type": "code",
   "execution_count": 1,
   "metadata": {},
   "outputs": [],
   "source": [
    "import matplotlib.pyplot as plt \n",
    "import numpy as np \n",
    "import pandas as pd"
   ]
  },
  {
   "attachments": {},
   "cell_type": "markdown",
   "metadata": {},
   "source": [
    "Création des fonctions : "
   ]
  },
  {
   "cell_type": "code",
   "execution_count": 2,
   "metadata": {},
   "outputs": [],
   "source": [
    "def A(pN,pM, Xi,m):\n",
    "    p1 = pN-Xi*(pM-pN)\n",
    "    pm = pM+Xi*(pM-pN)\n",
    "    A = []\n",
    "    for i in range (1,m+1):\n",
    "        new = p1 + (i-1)*(pm-p1)/m\n",
    "        A.append(new)\n",
    "    return A"
   ]
  },
  {
   "cell_type": "code",
   "execution_count": 3,
   "metadata": {},
   "outputs": [],
   "source": [
    "def S(A): \n",
    "    S = []\n",
    "    for i in range (len(A)):\n",
    "        for j in range (len(A)): \n",
    "            S.append([A[i],A[j]])\n",
    "    return S\n",
    "    "
   ]
  },
  {
   "cell_type": "code",
   "execution_count": 4,
   "metadata": {},
   "outputs": [],
   "source": [
    "def pi1(s): \n",
    "    return (s[0]-1)*np.exp(4*(2-s[0]))/(np.exp(4*(2-s[0]))+np.exp(4*(2-s[1]))-1)"
   ]
  },
  {
   "cell_type": "code",
   "execution_count": 5,
   "metadata": {},
   "outputs": [],
   "source": [
    "def pi2(s): \n",
    "    return (s[1]-1)*np.exp(4*(2-s[1]))/(np.exp(4*(2-s[1]))+np.exp(4*(2-s[0]))-1)"
   ]
  },
  {
   "cell_type": "code",
   "execution_count": 6,
   "metadata": {},
   "outputs": [],
   "source": [
    "def initQwithLargeConstantValue(Q): \n",
    "    for i in range (len(Q)):\n",
    "        for j in range(len(Q[0])):\n",
    "            Q[i][j]=2\n",
    "    return Q"
   ]
  },
  {
   "cell_type": "code",
   "execution_count": 7,
   "metadata": {},
   "outputs": [],
   "source": [
    "#Créer une fonction qui trouve le maximum de Q(s,a)\n",
    "def trouve_max(Q,s_prime):\n",
    "    sol = Q[0][s_prime]\n",
    "    arg = 0\n",
    "    for i in range (1,len(Q)): \n",
    "        if sol <= Q[i][s_prime]:\n",
    "            sol = Q[i][s_prime]\n",
    "            arg = i\n",
    "    return sol, arg        "
   ]
  },
  {
   "cell_type": "code",
   "execution_count": 8,
   "metadata": {},
   "outputs": [],
   "source": [
    "def epsilon(beta,t):\n",
    "    #return the value of epsilon at the moment t\n",
    "    return np.exp(-beta*t)"
   ]
  },
  {
   "cell_type": "code",
   "execution_count": 9,
   "metadata": {},
   "outputs": [],
   "source": [
    "#current_column_index = index of the price set by the players in t-1\n",
    "def get_next_action(Q,s_t_index,epsilon,m,trouve_max):\n",
    "    if np.random.random() < 1-epsilon: \n",
    "        return trouve_max(Q,s_t_index)[1]\n",
    "    else: \n",
    "        return np.random.randint(m)"
   ]
  },
  {
   "cell_type": "code",
   "execution_count": 10,
   "metadata": {},
   "outputs": [],
   "source": [
    "def updateQ(Q,S,a_t_index, s_t_index, alpha, delta, pi, s_t1_index):\n",
    "    Qbis = Q\n",
    "    for i in range(len(Q)): \n",
    "        for j in range(len(Q[0])):\n",
    "            if i == a_t_index and j == s_t_index: #faire attention à différencier valeurs et indices : ici on parle d'indice\n",
    "                Qbis[i][j]= (1-alpha)*Q[i][j] + alpha*(pi(S[s_t1_index]) + delta*trouve_max(Q,s_t1_index)[0])\n",
    "    return Qbis"
   ]
  },
  {
   "cell_type": "code",
   "execution_count": 11,
   "metadata": {},
   "outputs": [],
   "source": [
    "def find_index(S,s_t): \n",
    "    index = -1\n",
    "    for test in range (len(S)):\n",
    "        if abs(S[test][0] - s_t[0]) <= 10**(-100) and abs(S[test][1] - s_t[1]) <= 10**(-100) :\n",
    "            index = test \n",
    "    return index"
   ]
  },
  {
   "cell_type": "code",
   "execution_count": 12,
   "metadata": {},
   "outputs": [],
   "source": [
    "def jeu(pN,pM,Xi,m, A, S, epsilon, beta, alpha, delta, initQ, updateQ, nb_iteration, get_next_action,trouve_max,pi1,pi2, find_index):\n",
    "    #Initialisation\n",
    "    A = A(pN,pM, Xi,m)\n",
    "    S = S(A)\n",
    "    Q1 = np.zeros((len(A),len(S))) #Q matrice j1\n",
    "    Q1 = initQ(Q1)\n",
    "    Q2 = np.zeros((len(A),len(S))) #Q matrice j2\n",
    "    Q2 = initQ(Q2)\n",
    "    t = 0\n",
    "    s_t_index = np.random.randint(m*m)\n",
    "    #Phase itérative\n",
    "    while t < nb_iteration:\n",
    "        a_t_index1 = get_next_action(Q1,s_t_index,epsilon(beta,t),m,trouve_max)\n",
    "        a_t_index2 = get_next_action(Q2,s_t_index,epsilon(beta,t),m,trouve_max)\n",
    "        #print(a_t_index1,a_t_index2)\n",
    "        s_t1 = [A[a_t_index1],A[a_t_index2]]\n",
    "        s_t1_index = find_index(S,s_t1)\n",
    "        Q1 = updateQ(Q1,S, a_t_index1, s_t_index, alpha, delta, pi1, s_t1_index)\n",
    "        #print(Q1[a_t_index1,s_t_index])\n",
    "        Q2 = updateQ(Q2,S,a_t_index2, s_t_index, alpha, delta, pi2, s_t1_index)\n",
    "        t = t+1\n",
    "        s_t_index = s_t1_index\n",
    "    return Q1, Q2, S[s_t1_index]\n",
    "    "
   ]
  },
  {
   "attachments": {},
   "cell_type": "markdown",
   "metadata": {},
   "source": [
    "Test des différentes fonctions"
   ]
  },
  {
   "cell_type": "code",
   "execution_count": 13,
   "metadata": {},
   "outputs": [
    {
     "name": "stdout",
     "output_type": "stream",
     "text": [
      "[1.758, 1.7756, 1.7932, 1.8108, 1.8284, 1.8459999999999999, 1.8636, 1.8812, 1.8987999999999998, 1.9163999999999999, 1.934, 1.9515999999999998, 1.9691999999999998, 1.9868, 2.0044]\n"
     ]
    }
   ],
   "source": [
    "A_test = A(1.78,2,0.1,15)\n",
    "print(A_test)"
   ]
  },
  {
   "cell_type": "code",
   "execution_count": 14,
   "metadata": {},
   "outputs": [
    {
     "data": {
      "text/plain": [
       "15"
      ]
     },
     "execution_count": 14,
     "metadata": {},
     "output_type": "execute_result"
    }
   ],
   "source": [
    "len(A_test)"
   ]
  },
  {
   "cell_type": "code",
   "execution_count": 15,
   "metadata": {},
   "outputs": [
    {
     "name": "stdout",
     "output_type": "stream",
     "text": [
      "[[1.758, 1.758], [1.758, 1.7756], [1.758, 1.7932], [1.758, 1.8108], [1.758, 1.8284], [1.758, 1.8459999999999999], [1.758, 1.8636], [1.758, 1.8812], [1.758, 1.8987999999999998], [1.758, 1.9163999999999999], [1.758, 1.934], [1.758, 1.9515999999999998], [1.758, 1.9691999999999998], [1.758, 1.9868], [1.758, 2.0044], [1.7756, 1.758], [1.7756, 1.7756], [1.7756, 1.7932], [1.7756, 1.8108], [1.7756, 1.8284], [1.7756, 1.8459999999999999], [1.7756, 1.8636], [1.7756, 1.8812], [1.7756, 1.8987999999999998], [1.7756, 1.9163999999999999], [1.7756, 1.934], [1.7756, 1.9515999999999998], [1.7756, 1.9691999999999998], [1.7756, 1.9868], [1.7756, 2.0044], [1.7932, 1.758], [1.7932, 1.7756], [1.7932, 1.7932], [1.7932, 1.8108], [1.7932, 1.8284], [1.7932, 1.8459999999999999], [1.7932, 1.8636], [1.7932, 1.8812], [1.7932, 1.8987999999999998], [1.7932, 1.9163999999999999], [1.7932, 1.934], [1.7932, 1.9515999999999998], [1.7932, 1.9691999999999998], [1.7932, 1.9868], [1.7932, 2.0044], [1.8108, 1.758], [1.8108, 1.7756], [1.8108, 1.7932], [1.8108, 1.8108], [1.8108, 1.8284], [1.8108, 1.8459999999999999], [1.8108, 1.8636], [1.8108, 1.8812], [1.8108, 1.8987999999999998], [1.8108, 1.9163999999999999], [1.8108, 1.934], [1.8108, 1.9515999999999998], [1.8108, 1.9691999999999998], [1.8108, 1.9868], [1.8108, 2.0044], [1.8284, 1.758], [1.8284, 1.7756], [1.8284, 1.7932], [1.8284, 1.8108], [1.8284, 1.8284], [1.8284, 1.8459999999999999], [1.8284, 1.8636], [1.8284, 1.8812], [1.8284, 1.8987999999999998], [1.8284, 1.9163999999999999], [1.8284, 1.934], [1.8284, 1.9515999999999998], [1.8284, 1.9691999999999998], [1.8284, 1.9868], [1.8284, 2.0044], [1.8459999999999999, 1.758], [1.8459999999999999, 1.7756], [1.8459999999999999, 1.7932], [1.8459999999999999, 1.8108], [1.8459999999999999, 1.8284], [1.8459999999999999, 1.8459999999999999], [1.8459999999999999, 1.8636], [1.8459999999999999, 1.8812], [1.8459999999999999, 1.8987999999999998], [1.8459999999999999, 1.9163999999999999], [1.8459999999999999, 1.934], [1.8459999999999999, 1.9515999999999998], [1.8459999999999999, 1.9691999999999998], [1.8459999999999999, 1.9868], [1.8459999999999999, 2.0044], [1.8636, 1.758], [1.8636, 1.7756], [1.8636, 1.7932], [1.8636, 1.8108], [1.8636, 1.8284], [1.8636, 1.8459999999999999], [1.8636, 1.8636], [1.8636, 1.8812], [1.8636, 1.8987999999999998], [1.8636, 1.9163999999999999], [1.8636, 1.934], [1.8636, 1.9515999999999998], [1.8636, 1.9691999999999998], [1.8636, 1.9868], [1.8636, 2.0044], [1.8812, 1.758], [1.8812, 1.7756], [1.8812, 1.7932], [1.8812, 1.8108], [1.8812, 1.8284], [1.8812, 1.8459999999999999], [1.8812, 1.8636], [1.8812, 1.8812], [1.8812, 1.8987999999999998], [1.8812, 1.9163999999999999], [1.8812, 1.934], [1.8812, 1.9515999999999998], [1.8812, 1.9691999999999998], [1.8812, 1.9868], [1.8812, 2.0044], [1.8987999999999998, 1.758], [1.8987999999999998, 1.7756], [1.8987999999999998, 1.7932], [1.8987999999999998, 1.8108], [1.8987999999999998, 1.8284], [1.8987999999999998, 1.8459999999999999], [1.8987999999999998, 1.8636], [1.8987999999999998, 1.8812], [1.8987999999999998, 1.8987999999999998], [1.8987999999999998, 1.9163999999999999], [1.8987999999999998, 1.934], [1.8987999999999998, 1.9515999999999998], [1.8987999999999998, 1.9691999999999998], [1.8987999999999998, 1.9868], [1.8987999999999998, 2.0044], [1.9163999999999999, 1.758], [1.9163999999999999, 1.7756], [1.9163999999999999, 1.7932], [1.9163999999999999, 1.8108], [1.9163999999999999, 1.8284], [1.9163999999999999, 1.8459999999999999], [1.9163999999999999, 1.8636], [1.9163999999999999, 1.8812], [1.9163999999999999, 1.8987999999999998], [1.9163999999999999, 1.9163999999999999], [1.9163999999999999, 1.934], [1.9163999999999999, 1.9515999999999998], [1.9163999999999999, 1.9691999999999998], [1.9163999999999999, 1.9868], [1.9163999999999999, 2.0044], [1.934, 1.758], [1.934, 1.7756], [1.934, 1.7932], [1.934, 1.8108], [1.934, 1.8284], [1.934, 1.8459999999999999], [1.934, 1.8636], [1.934, 1.8812], [1.934, 1.8987999999999998], [1.934, 1.9163999999999999], [1.934, 1.934], [1.934, 1.9515999999999998], [1.934, 1.9691999999999998], [1.934, 1.9868], [1.934, 2.0044], [1.9515999999999998, 1.758], [1.9515999999999998, 1.7756], [1.9515999999999998, 1.7932], [1.9515999999999998, 1.8108], [1.9515999999999998, 1.8284], [1.9515999999999998, 1.8459999999999999], [1.9515999999999998, 1.8636], [1.9515999999999998, 1.8812], [1.9515999999999998, 1.8987999999999998], [1.9515999999999998, 1.9163999999999999], [1.9515999999999998, 1.934], [1.9515999999999998, 1.9515999999999998], [1.9515999999999998, 1.9691999999999998], [1.9515999999999998, 1.9868], [1.9515999999999998, 2.0044], [1.9691999999999998, 1.758], [1.9691999999999998, 1.7756], [1.9691999999999998, 1.7932], [1.9691999999999998, 1.8108], [1.9691999999999998, 1.8284], [1.9691999999999998, 1.8459999999999999], [1.9691999999999998, 1.8636], [1.9691999999999998, 1.8812], [1.9691999999999998, 1.8987999999999998], [1.9691999999999998, 1.9163999999999999], [1.9691999999999998, 1.934], [1.9691999999999998, 1.9515999999999998], [1.9691999999999998, 1.9691999999999998], [1.9691999999999998, 1.9868], [1.9691999999999998, 2.0044], [1.9868, 1.758], [1.9868, 1.7756], [1.9868, 1.7932], [1.9868, 1.8108], [1.9868, 1.8284], [1.9868, 1.8459999999999999], [1.9868, 1.8636], [1.9868, 1.8812], [1.9868, 1.8987999999999998], [1.9868, 1.9163999999999999], [1.9868, 1.934], [1.9868, 1.9515999999999998], [1.9868, 1.9691999999999998], [1.9868, 1.9868], [1.9868, 2.0044], [2.0044, 1.758], [2.0044, 1.7756], [2.0044, 1.7932], [2.0044, 1.8108], [2.0044, 1.8284], [2.0044, 1.8459999999999999], [2.0044, 1.8636], [2.0044, 1.8812], [2.0044, 1.8987999999999998], [2.0044, 1.9163999999999999], [2.0044, 1.934], [2.0044, 1.9515999999999998], [2.0044, 1.9691999999999998], [2.0044, 1.9868], [2.0044, 2.0044]]\n"
     ]
    }
   ],
   "source": [
    "S_test = S(A_test)\n",
    "print(S_test)"
   ]
  },
  {
   "cell_type": "code",
   "execution_count": 17,
   "metadata": {},
   "outputs": [
    {
     "name": "stdout",
     "output_type": "stream",
     "text": [
      "[[1.8636, 1.758], 0.44375368876753135, 0.5942162678998217]\n"
     ]
    }
   ],
   "source": [
    "print([S_test[90],pi1(S_test[90]),pi2(S_test[90])])"
   ]
  },
  {
   "cell_type": "code",
   "execution_count": 18,
   "metadata": {},
   "outputs": [
    {
     "name": "stdout",
     "output_type": "stream",
     "text": [
      "[[2. 2. 2. ... 2. 2. 2.]\n",
      " [2. 2. 2. ... 2. 2. 2.]\n",
      " [2. 2. 2. ... 2. 2. 2.]\n",
      " ...\n",
      " [2. 2. 2. ... 2. 2. 2.]\n",
      " [2. 2. 2. ... 2. 2. 2.]\n",
      " [2. 2. 2. ... 2. 2. 2.]]\n"
     ]
    }
   ],
   "source": [
    "Q = np.zeros((len(A_test),len(S_test)))\n",
    "Q = initQwithLargeConstantValue(Q)\n",
    "print(Q)"
   ]
  },
  {
   "cell_type": "code",
   "execution_count": 19,
   "metadata": {},
   "outputs": [
    {
     "data": {
      "text/plain": [
       "(7, 2)"
      ]
     },
     "execution_count": 19,
     "metadata": {},
     "output_type": "execute_result"
    }
   ],
   "source": [
    "Q = [[1,2,3],[4,5,6],[7,8,9]]\n",
    "trouve_max(Q,0)"
   ]
  },
  {
   "cell_type": "code",
   "execution_count": 20,
   "metadata": {},
   "outputs": [
    {
     "name": "stdout",
     "output_type": "stream",
     "text": [
      "1.0\n",
      "0.9999900000499998\n",
      "0.9999800001999987\n",
      "0.9999700004499955\n",
      "0.9999600007999894\n",
      "0.9999500012499791\n",
      "0.999940001799964\n",
      "0.9999300024499428\n",
      "0.9999200031999147\n",
      "0.9999100040498785\n"
     ]
    }
   ],
   "source": [
    "for t in range (10): \n",
    "    print(epsilon(10**(-5),t))"
   ]
  },
  {
   "cell_type": "code",
   "execution_count": 21,
   "metadata": {},
   "outputs": [
    {
     "name": "stdout",
     "output_type": "stream",
     "text": [
      "2\n"
     ]
    }
   ],
   "source": [
    "Q = [[1,2,3],[4,5,6],[7,8,9]]\n",
    "print(get_next_action(Q,1,0.5,15,trouve_max))"
   ]
  },
  {
   "cell_type": "code",
   "execution_count": 22,
   "metadata": {},
   "outputs": [],
   "source": [
    "Q = np.zeros((len(A_test),len(S_test)))\n",
    "Q = initQwithLargeConstantValue(Q)\n",
    "#print(updateQ(Q,S_test,2,2, 0.1, 0.95, pi, np.random.randint(225))) #Ca change bien quand on change s_t1_index"
   ]
  },
  {
   "cell_type": "code",
   "execution_count": 23,
   "metadata": {},
   "outputs": [],
   "source": [
    "#for i in range (len(S)):\n",
    "    #print(i,find_index(S,S[i])) \n",
    "for i in range (len(S_test)):\n",
    "    if i != find_index(S_test,S_test[i]):\n",
    "        print(i,find_index(S_test,S_test[i])) \n",
    "        print(S_test[i],S_test[find_index(S_test,S_test[i])]) #on doit rien print "
   ]
  },
  {
   "cell_type": "code",
   "execution_count": 25,
   "metadata": {},
   "outputs": [
    {
     "data": {
      "text/plain": [
       "(array([[5.47892629, 4.78780959, 3.41921904, ..., 4.29689574, 6.36281308,\n",
       "         9.34025485],\n",
       "        [5.77676828, 4.62612108, 3.67034834, ..., 3.84711381, 5.63583742,\n",
       "         7.19946042],\n",
       "        [3.90244426, 8.74131865, 4.15904209, ..., 8.90378285, 5.618535  ,\n",
       "         5.63992645],\n",
       "        ...,\n",
       "        [5.40281463, 5.80440727, 8.94548117, ..., 5.16801768, 5.35726577,\n",
       "         7.01249417],\n",
       "        [5.70227958, 5.47306089, 5.65503001, ..., 4.79834188, 5.78553448,\n",
       "         6.96294491],\n",
       "        [5.86466908, 4.36790852, 4.36827573, ..., 4.6134248 , 6.80497954,\n",
       "         7.02119358]]),\n",
       " array([[5.46793584, 3.50569244, 4.29194977, ..., 3.90051611, 5.34684121,\n",
       "         7.25386752],\n",
       "        [6.18796115, 8.68697965, 4.18564052, ..., 5.17929853, 5.94054156,\n",
       "         6.29491596],\n",
       "        [5.74812122, 5.26392662, 3.44723012, ..., 4.79135112, 5.67170156,\n",
       "         6.66586655],\n",
       "        ...,\n",
       "        [6.21939947, 4.66008651, 3.50290384, ..., 5.1642587 , 5.17725198,\n",
       "         6.57619348],\n",
       "        [5.74108814, 4.14591907, 4.13727002, ..., 4.71897652, 9.14477826,\n",
       "         6.9414281 ],\n",
       "        [5.51749802, 3.96710734, 4.33897353, ..., 4.50637139, 5.88154647,\n",
       "         6.9529302 ]]),\n",
       " [1.8812, 1.8812])"
      ]
     },
     "execution_count": 25,
     "metadata": {},
     "output_type": "execute_result"
    }
   ],
   "source": [
    "jeu(pN=1.78,pM=2,Xi=0.1,m=15, A=A, S=S, epsilon = epsilon, beta=10**(-5), alpha = 0.1, delta = 0.95, initQ=initQwithLargeConstantValue, updateQ=updateQ, nb_iteration=100000, get_next_action = get_next_action,trouve_max=trouve_max,pi1=pi1, pi2=pi2, find_index=find_index)"
   ]
  },
  {
   "attachments": {},
   "cell_type": "markdown",
   "metadata": {},
   "source": [
    "Pour \n",
    "- 100 rep : < 1sec\n",
    "- 1000 rep : < 1 sec\n",
    "- 10000 rep : env. 4 sec\n",
    "- 100000 rep : env. 40 sec\n",
    "- 1000000 rep : env. 7mn"
   ]
  }
 ],
 "metadata": {
  "kernelspec": {
   "display_name": "Python 3",
   "language": "python",
   "name": "python3"
  },
  "language_info": {
   "codemirror_mode": {
    "name": "ipython",
    "version": 3
   },
   "file_extension": ".py",
   "mimetype": "text/x-python",
   "name": "python",
   "nbconvert_exporter": "python",
   "pygments_lexer": "ipython3",
   "version": "3.9.0"
  },
  "orig_nbformat": 4
 },
 "nbformat": 4,
 "nbformat_minor": 2
}
