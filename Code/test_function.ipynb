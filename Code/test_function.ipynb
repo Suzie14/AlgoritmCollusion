{
 "cells": [
  {
   "cell_type": "code",
   "execution_count": 220,
   "metadata": {},
   "outputs": [],
   "source": [
    "import matplotlib.pyplot as plt \n",
    "import numpy as np \n",
    "import pandas as pd"
   ]
  },
  {
   "attachments": {},
   "cell_type": "markdown",
   "metadata": {},
   "source": [
    "Création des fonctions : "
   ]
  },
  {
   "cell_type": "code",
   "execution_count": 221,
   "metadata": {},
   "outputs": [],
   "source": [
    "def A(pN,pM, Xi,m):\n",
    "    p1 = pN-Xi*(pM-pN)\n",
    "    pm = pM+Xi*(pM-pN)\n",
    "    A = []\n",
    "    for i in range (1,m+1):\n",
    "        new = p1 + (i-1)*(pm-p1)/m\n",
    "        A.append(new)\n",
    "    return A"
   ]
  },
  {
   "cell_type": "code",
   "execution_count": 222,
   "metadata": {},
   "outputs": [],
   "source": [
    "def S(A): \n",
    "    S = []\n",
    "    for i in range (len(A)):\n",
    "        for j in range (len(A)): \n",
    "            S.append([A[i],A[j]])\n",
    "    return S\n",
    "    "
   ]
  },
  {
   "cell_type": "code",
   "execution_count": 223,
   "metadata": {},
   "outputs": [],
   "source": [
    "def pi1(s): \n",
    "    return (s[0]-1)*np.exp(4*(2-s[0]))/(np.exp(4*(2-s[0]))+np.exp(4*(2-s[1]))+1)"
   ]
  },
  {
   "cell_type": "code",
   "execution_count": 224,
   "metadata": {},
   "outputs": [],
   "source": [
    "def pi2(s): \n",
    "    return (s[1]-1)*np.exp(4*(2-s[1]))/(np.exp(4*(2-s[1]))+np.exp(4*(2-s[0]))+1)"
   ]
  },
  {
   "cell_type": "code",
   "execution_count": 225,
   "metadata": {},
   "outputs": [],
   "source": [
    "def initQwithLargeConstantValue(Q): \n",
    "    for i in range (len(Q)):\n",
    "        for j in range(len(Q[0])):\n",
    "            Q[i][j]=2\n",
    "    return Q"
   ]
  },
  {
   "cell_type": "code",
   "execution_count": 226,
   "metadata": {},
   "outputs": [],
   "source": [
    "#Créer une fonction qui trouve le maximum de Q(s,a)\n",
    "def trouve_max(Q,s_prime):\n",
    "    sol = Q[0][s_prime]\n",
    "    arg = 0\n",
    "    for i in range (1,len(Q)): \n",
    "        if sol <= Q[i][s_prime]:\n",
    "            sol = Q[i][s_prime]\n",
    "            arg = i\n",
    "    return sol, arg        "
   ]
  },
  {
   "cell_type": "code",
   "execution_count": 227,
   "metadata": {},
   "outputs": [],
   "source": [
    "def epsilon(beta,t):\n",
    "    #return the value of epsilon at the moment t\n",
    "    return np.exp(-beta*t)"
   ]
  },
  {
   "cell_type": "code",
   "execution_count": 228,
   "metadata": {},
   "outputs": [],
   "source": [
    "#current_column_index = index of the price set by the players in t-1\n",
    "def get_next_action(Q,s_t_index,epsilon,m,trouve_max):\n",
    "    if np.random.random() < 1-epsilon: \n",
    "        return trouve_max(Q,s_t_index)[1]\n",
    "    else: \n",
    "        return np.random.randint(m)"
   ]
  },
  {
   "cell_type": "code",
   "execution_count": 229,
   "metadata": {},
   "outputs": [],
   "source": [
    "def updateQ(Q,S,a_t_index, s_t_index, alpha, delta, pi, s_t1_index):\n",
    "    Qbis = Q\n",
    "    for i in range(len(Q)): \n",
    "        for j in range(len(Q[0])):\n",
    "            if i == a_t_index and j == s_t_index: #faire attention à différencier valeurs et indices : ici on parle d'indice\n",
    "                Qbis[i][j]= (1-alpha)*Q[i][j] + alpha*(pi(S[s_t1_index]) + delta*trouve_max(Q,s_t1_index)[0])\n",
    "    return Qbis"
   ]
  },
  {
   "cell_type": "code",
   "execution_count": 230,
   "metadata": {},
   "outputs": [],
   "source": [
    "def find_index(S,s_t): \n",
    "    index = -1\n",
    "    for test in range (len(S)):\n",
    "        if abs(S[test][0] - s_t[0]) <= 10**(-100) and abs(S[test][1] - s_t[1]) <= 10**(-100) :\n",
    "            index = test \n",
    "    return index"
   ]
  },
  {
   "cell_type": "code",
   "execution_count": 231,
   "metadata": {},
   "outputs": [],
   "source": [
    "def jeu(pN,pM,Xi,m, A, S, epsilon, beta, alpha, delta, initQ, updateQ, nb_iteration, get_next_action,trouve_max,pi1,pi2, find_index):\n",
    "    #Initialisation\n",
    "    A = A(pN,pM, Xi,m)\n",
    "    S = S(A)\n",
    "    Q1 = np.zeros((len(A),len(S))) #Q matrice j1\n",
    "    Q1 = initQ(Q1)\n",
    "    Q2 = np.zeros((len(A),len(S))) #Q matrice j2\n",
    "    Q2 = initQ(Q2)\n",
    "    s_t_index = np.random.randint(m*m)\n",
    "    temps = []\n",
    "    profit = []\n",
    "    \n",
    "    #Phase itérative\n",
    "    for t in range(nb_iteration):\n",
    "        a_t_index1 = get_next_action(Q1,s_t_index,epsilon(beta,t),m,trouve_max)\n",
    "        a_t_index2 = get_next_action(Q2,s_t_index,epsilon(beta,t),m,trouve_max)\n",
    "        #print(a_t_index1,a_t_index2)\n",
    "        s_t1 = [A[a_t_index1],A[a_t_index2]]\n",
    "        profit1 = pi1(s_t1)\n",
    "        s_t1_index = find_index(S,s_t1)\n",
    "        Q1 = updateQ(Q1,S, a_t_index1, s_t_index, alpha, delta, pi1, s_t1_index)\n",
    "        #print(Q1[a_t_index1,s_t_index])\n",
    "        Q2 = updateQ(Q2,S,a_t_index2, s_t_index, alpha, delta, pi2, s_t1_index)\n",
    "        s_t_index = s_t1_index\n",
    "        temps.append(t)\n",
    "        profit.append(profit1)\n",
    "        \n",
    "        \n",
    "    return S[s_t1_index], temps, profit\n",
    "    "
   ]
  },
  {
   "attachments": {},
   "cell_type": "markdown",
   "metadata": {},
   "source": [
    "Test des différentes fonctions"
   ]
  },
  {
   "cell_type": "code",
   "execution_count": 232,
   "metadata": {},
   "outputs": [
    {
     "name": "stdout",
     "output_type": "stream",
     "text": [
      "[1.758, 1.7756, 1.7932, 1.8108, 1.8284, 1.8459999999999999, 1.8636, 1.8812, 1.8987999999999998, 1.9163999999999999, 1.934, 1.9515999999999998, 1.9691999999999998, 1.9868, 2.0044]\n"
     ]
    }
   ],
   "source": [
    "A_test = A(1.78,2,0.1,15)\n",
    "print(A_test)"
   ]
  },
  {
   "cell_type": "code",
   "execution_count": 233,
   "metadata": {},
   "outputs": [
    {
     "data": {
      "text/plain": [
       "15"
      ]
     },
     "execution_count": 233,
     "metadata": {},
     "output_type": "execute_result"
    }
   ],
   "source": [
    "len(A_test)"
   ]
  },
  {
   "cell_type": "code",
   "execution_count": 234,
   "metadata": {},
   "outputs": [
    {
     "name": "stdout",
     "output_type": "stream",
     "text": [
      "[[1.758, 1.758], [1.758, 1.7756], [1.758, 1.7932], [1.758, 1.8108], [1.758, 1.8284], [1.758, 1.8459999999999999], [1.758, 1.8636], [1.758, 1.8812], [1.758, 1.8987999999999998], [1.758, 1.9163999999999999], [1.758, 1.934], [1.758, 1.9515999999999998], [1.758, 1.9691999999999998], [1.758, 1.9868], [1.758, 2.0044], [1.7756, 1.758], [1.7756, 1.7756], [1.7756, 1.7932], [1.7756, 1.8108], [1.7756, 1.8284], [1.7756, 1.8459999999999999], [1.7756, 1.8636], [1.7756, 1.8812], [1.7756, 1.8987999999999998], [1.7756, 1.9163999999999999], [1.7756, 1.934], [1.7756, 1.9515999999999998], [1.7756, 1.9691999999999998], [1.7756, 1.9868], [1.7756, 2.0044], [1.7932, 1.758], [1.7932, 1.7756], [1.7932, 1.7932], [1.7932, 1.8108], [1.7932, 1.8284], [1.7932, 1.8459999999999999], [1.7932, 1.8636], [1.7932, 1.8812], [1.7932, 1.8987999999999998], [1.7932, 1.9163999999999999], [1.7932, 1.934], [1.7932, 1.9515999999999998], [1.7932, 1.9691999999999998], [1.7932, 1.9868], [1.7932, 2.0044], [1.8108, 1.758], [1.8108, 1.7756], [1.8108, 1.7932], [1.8108, 1.8108], [1.8108, 1.8284], [1.8108, 1.8459999999999999], [1.8108, 1.8636], [1.8108, 1.8812], [1.8108, 1.8987999999999998], [1.8108, 1.9163999999999999], [1.8108, 1.934], [1.8108, 1.9515999999999998], [1.8108, 1.9691999999999998], [1.8108, 1.9868], [1.8108, 2.0044], [1.8284, 1.758], [1.8284, 1.7756], [1.8284, 1.7932], [1.8284, 1.8108], [1.8284, 1.8284], [1.8284, 1.8459999999999999], [1.8284, 1.8636], [1.8284, 1.8812], [1.8284, 1.8987999999999998], [1.8284, 1.9163999999999999], [1.8284, 1.934], [1.8284, 1.9515999999999998], [1.8284, 1.9691999999999998], [1.8284, 1.9868], [1.8284, 2.0044], [1.8459999999999999, 1.758], [1.8459999999999999, 1.7756], [1.8459999999999999, 1.7932], [1.8459999999999999, 1.8108], [1.8459999999999999, 1.8284], [1.8459999999999999, 1.8459999999999999], [1.8459999999999999, 1.8636], [1.8459999999999999, 1.8812], [1.8459999999999999, 1.8987999999999998], [1.8459999999999999, 1.9163999999999999], [1.8459999999999999, 1.934], [1.8459999999999999, 1.9515999999999998], [1.8459999999999999, 1.9691999999999998], [1.8459999999999999, 1.9868], [1.8459999999999999, 2.0044], [1.8636, 1.758], [1.8636, 1.7756], [1.8636, 1.7932], [1.8636, 1.8108], [1.8636, 1.8284], [1.8636, 1.8459999999999999], [1.8636, 1.8636], [1.8636, 1.8812], [1.8636, 1.8987999999999998], [1.8636, 1.9163999999999999], [1.8636, 1.934], [1.8636, 1.9515999999999998], [1.8636, 1.9691999999999998], [1.8636, 1.9868], [1.8636, 2.0044], [1.8812, 1.758], [1.8812, 1.7756], [1.8812, 1.7932], [1.8812, 1.8108], [1.8812, 1.8284], [1.8812, 1.8459999999999999], [1.8812, 1.8636], [1.8812, 1.8812], [1.8812, 1.8987999999999998], [1.8812, 1.9163999999999999], [1.8812, 1.934], [1.8812, 1.9515999999999998], [1.8812, 1.9691999999999998], [1.8812, 1.9868], [1.8812, 2.0044], [1.8987999999999998, 1.758], [1.8987999999999998, 1.7756], [1.8987999999999998, 1.7932], [1.8987999999999998, 1.8108], [1.8987999999999998, 1.8284], [1.8987999999999998, 1.8459999999999999], [1.8987999999999998, 1.8636], [1.8987999999999998, 1.8812], [1.8987999999999998, 1.8987999999999998], [1.8987999999999998, 1.9163999999999999], [1.8987999999999998, 1.934], [1.8987999999999998, 1.9515999999999998], [1.8987999999999998, 1.9691999999999998], [1.8987999999999998, 1.9868], [1.8987999999999998, 2.0044], [1.9163999999999999, 1.758], [1.9163999999999999, 1.7756], [1.9163999999999999, 1.7932], [1.9163999999999999, 1.8108], [1.9163999999999999, 1.8284], [1.9163999999999999, 1.8459999999999999], [1.9163999999999999, 1.8636], [1.9163999999999999, 1.8812], [1.9163999999999999, 1.8987999999999998], [1.9163999999999999, 1.9163999999999999], [1.9163999999999999, 1.934], [1.9163999999999999, 1.9515999999999998], [1.9163999999999999, 1.9691999999999998], [1.9163999999999999, 1.9868], [1.9163999999999999, 2.0044], [1.934, 1.758], [1.934, 1.7756], [1.934, 1.7932], [1.934, 1.8108], [1.934, 1.8284], [1.934, 1.8459999999999999], [1.934, 1.8636], [1.934, 1.8812], [1.934, 1.8987999999999998], [1.934, 1.9163999999999999], [1.934, 1.934], [1.934, 1.9515999999999998], [1.934, 1.9691999999999998], [1.934, 1.9868], [1.934, 2.0044], [1.9515999999999998, 1.758], [1.9515999999999998, 1.7756], [1.9515999999999998, 1.7932], [1.9515999999999998, 1.8108], [1.9515999999999998, 1.8284], [1.9515999999999998, 1.8459999999999999], [1.9515999999999998, 1.8636], [1.9515999999999998, 1.8812], [1.9515999999999998, 1.8987999999999998], [1.9515999999999998, 1.9163999999999999], [1.9515999999999998, 1.934], [1.9515999999999998, 1.9515999999999998], [1.9515999999999998, 1.9691999999999998], [1.9515999999999998, 1.9868], [1.9515999999999998, 2.0044], [1.9691999999999998, 1.758], [1.9691999999999998, 1.7756], [1.9691999999999998, 1.7932], [1.9691999999999998, 1.8108], [1.9691999999999998, 1.8284], [1.9691999999999998, 1.8459999999999999], [1.9691999999999998, 1.8636], [1.9691999999999998, 1.8812], [1.9691999999999998, 1.8987999999999998], [1.9691999999999998, 1.9163999999999999], [1.9691999999999998, 1.934], [1.9691999999999998, 1.9515999999999998], [1.9691999999999998, 1.9691999999999998], [1.9691999999999998, 1.9868], [1.9691999999999998, 2.0044], [1.9868, 1.758], [1.9868, 1.7756], [1.9868, 1.7932], [1.9868, 1.8108], [1.9868, 1.8284], [1.9868, 1.8459999999999999], [1.9868, 1.8636], [1.9868, 1.8812], [1.9868, 1.8987999999999998], [1.9868, 1.9163999999999999], [1.9868, 1.934], [1.9868, 1.9515999999999998], [1.9868, 1.9691999999999998], [1.9868, 1.9868], [1.9868, 2.0044], [2.0044, 1.758], [2.0044, 1.7756], [2.0044, 1.7932], [2.0044, 1.8108], [2.0044, 1.8284], [2.0044, 1.8459999999999999], [2.0044, 1.8636], [2.0044, 1.8812], [2.0044, 1.8987999999999998], [2.0044, 1.9163999999999999], [2.0044, 1.934], [2.0044, 1.9515999999999998], [2.0044, 1.9691999999999998], [2.0044, 1.9868], [2.0044, 2.0044]]\n"
     ]
    }
   ],
   "source": [
    "S_test = S(A_test)\n",
    "print(S_test)"
   ]
  },
  {
   "cell_type": "code",
   "execution_count": 235,
   "metadata": {},
   "outputs": [
    {
     "name": "stdout",
     "output_type": "stream",
     "text": [
      "[[1.8636, 1.758], 0.2781219563171084, 0.37242415125100253]\n"
     ]
    }
   ],
   "source": [
    "print([S_test[90],pi1(S_test[90]),pi2(S_test[90])])"
   ]
  },
  {
   "cell_type": "code",
   "execution_count": 236,
   "metadata": {},
   "outputs": [
    {
     "name": "stdout",
     "output_type": "stream",
     "text": [
      "[[2. 2. 2. ... 2. 2. 2.]\n",
      " [2. 2. 2. ... 2. 2. 2.]\n",
      " [2. 2. 2. ... 2. 2. 2.]\n",
      " ...\n",
      " [2. 2. 2. ... 2. 2. 2.]\n",
      " [2. 2. 2. ... 2. 2. 2.]\n",
      " [2. 2. 2. ... 2. 2. 2.]]\n"
     ]
    }
   ],
   "source": [
    "Q = np.zeros((len(A_test),len(S_test)))\n",
    "Q = initQwithLargeConstantValue(Q)\n",
    "print(Q)"
   ]
  },
  {
   "cell_type": "code",
   "execution_count": 237,
   "metadata": {},
   "outputs": [
    {
     "data": {
      "text/plain": [
       "(7, 2)"
      ]
     },
     "execution_count": 237,
     "metadata": {},
     "output_type": "execute_result"
    }
   ],
   "source": [
    "Q = [[1,2,3],[4,5,6],[7,8,9]]\n",
    "trouve_max(Q,0)"
   ]
  },
  {
   "cell_type": "code",
   "execution_count": 238,
   "metadata": {},
   "outputs": [
    {
     "name": "stdout",
     "output_type": "stream",
     "text": [
      "1.0\n",
      "0.9999900000499998\n",
      "0.9999800001999987\n",
      "0.9999700004499955\n",
      "0.9999600007999894\n",
      "0.9999500012499791\n",
      "0.999940001799964\n",
      "0.9999300024499428\n",
      "0.9999200031999147\n",
      "0.9999100040498785\n"
     ]
    }
   ],
   "source": [
    "for t in range (10): \n",
    "    print(epsilon(10**(-5),t))"
   ]
  },
  {
   "cell_type": "code",
   "execution_count": 239,
   "metadata": {},
   "outputs": [
    {
     "name": "stdout",
     "output_type": "stream",
     "text": [
      "2\n"
     ]
    }
   ],
   "source": [
    "Q = [[1,2,3],[4,5,6],[7,8,9]]\n",
    "print(get_next_action(Q,1,0.5,15,trouve_max))"
   ]
  },
  {
   "cell_type": "code",
   "execution_count": 240,
   "metadata": {},
   "outputs": [],
   "source": [
    "Q = np.zeros((len(A_test),len(S_test)))\n",
    "Q = initQwithLargeConstantValue(Q)\n",
    "#print(updateQ(Q,S_test,2,2, 0.1, 0.95, pi, np.random.randint(225))) #Ca change bien quand on change s_t1_index"
   ]
  },
  {
   "cell_type": "code",
   "execution_count": 241,
   "metadata": {},
   "outputs": [],
   "source": [
    "#for i in range (len(S)):\n",
    "    #print(i,find_index(S,S[i])) \n",
    "for i in range (len(S_test)):\n",
    "    if i != find_index(S_test,S_test[i]):\n",
    "        print(i,find_index(S_test,S_test[i])) \n",
    "        print(S_test[i],S_test[find_index(S_test,S_test[i])]) #on doit rien print "
   ]
  },
  {
   "cell_type": "code",
   "execution_count": 242,
   "metadata": {},
   "outputs": [],
   "source": [
    "results1 = jeu(pN=1.47,pM=1.93,Xi=0.1,m=15, A=A, S=S, epsilon = epsilon, beta=10**(-5), alpha = 0.1, delta = 0.95, initQ=initQwithLargeConstantValue, updateQ=updateQ, nb_iteration=1000000, get_next_action = get_next_action,trouve_max=trouve_max,pi1=pi1, pi2=pi2, find_index=find_index)"
   ]
  },
  {
   "cell_type": "code",
   "execution_count": 243,
   "metadata": {},
   "outputs": [],
   "source": [
    "results2 = jeu(pN=1.47,pM=1.93,Xi=0.1,m=15, A=A, S=S, epsilon = epsilon, beta=10**(-5), alpha = 0.1, delta = 0.95, initQ=initQwithLargeConstantValue, updateQ=updateQ, nb_iteration=1000000, get_next_action = get_next_action,trouve_max=trouve_max,pi1=pi1, pi2=pi2, find_index=find_index)"
   ]
  },
  {
   "cell_type": "code",
   "execution_count": 244,
   "metadata": {},
   "outputs": [],
   "source": [
    "results3 = jeu(pN=1.47,pM=1.93,Xi=0.1,m=15, A=A, S=S, epsilon = epsilon, beta=10**(-5), alpha = 0.1, delta = 0.95, initQ=initQwithLargeConstantValue, updateQ=updateQ, nb_iteration=1000000, get_next_action = get_next_action,trouve_max=trouve_max,pi1=pi1, pi2=pi2, find_index=find_index)"
   ]
  },
  {
   "attachments": {},
   "cell_type": "markdown",
   "metadata": {},
   "source": [
    "Pour \n",
    "- 100 rep : < 1sec\n",
    "- 1000 rep : < 1 sec\n",
    "- 10000 rep : env. 4 sec\n",
    "- 100000 rep : env. 40 sec\n",
    "- 1000000 rep : env. 7mn"
   ]
  },
  {
   "cell_type": "markdown",
   "metadata": {},
   "source": []
  },
  {
   "cell_type": "code",
   "execution_count": 246,
   "metadata": {},
   "outputs": [
    {
     "data": {
      "image/png": "[encoded data removed]",
      "text/plain": [
       "<Figure size 640x480 with 1 Axes>"
      ]
     },
     "metadata": {},
     "output_type": "display_data"
    }
   ],
   "source": [
    "plt.title(\"Learning Curve for 1 000 000 itérations\")\n",
    "plt.plot(results1[1], results1[2], \"b\", label = \"Simulation 1\")\n",
    "plt.plot(results2[1], results2[2], \"r\", label = \"Simulation 2\")\n",
    "plt.plot(results3[1], results3[2], \"g\", label = \"Simulation 3\")\n",
    "plt.xlabel('Number of iterations')\n",
    "plt.ylabel('Profits')\n",
    "plt.show()"
   ]
  }
 ],
 "metadata": {
  "kernelspec": {
   "display_name": "Python 3",
   "language": "python",
   "name": "python3"
  },
  "language_info": {
   "codemirror_mode": {
    "name": "ipython",
    "version": 3
   },
   "file_extension": ".py",
   "mimetype": "text/x-python",
   "name": "python",
   "nbconvert_exporter": "python",
   "pygments_lexer": "ipython3",
   "version": "3.9.0"
  },
  "orig_nbformat": 4
 },
 "nbformat": 4,
 "nbformat_minor": 2
}
