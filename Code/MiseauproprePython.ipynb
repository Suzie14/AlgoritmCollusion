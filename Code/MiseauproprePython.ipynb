{
 "cells": [
  {
   "cell_type": "code",
   "execution_count": 1,
   "metadata": {},
   "outputs": [],
   "source": [
    "import numpy as np"
   ]
  },
  {
   "cell_type": "code",
   "execution_count": 2,
   "metadata": {},
   "outputs": [],
   "source": [
    "def A(pN,pM, Xi,m):\n",
    "    #input: Nash and Monopoly Price (pN and pM), \n",
    "    #output: A vector m*1 which contains the prices that can be choosen (A)\n",
    "    #goal:\n",
    "    p1 = pN-Xi*(pM-pN)\n",
    "    pm = pM+Xi*(pM-pN)\n",
    "    A = [p1]\n",
    "    for i in range (1,m):\n",
    "        new = p1 + (i-1)*(pm-p1)/(m-1)\n",
    "        A.append(new)\n",
    "    return A"
   ]
  },
  {
   "cell_type": "code",
   "execution_count": 3,
   "metadata": {},
   "outputs": [],
   "source": [
    "def pi(s): \n",
    "    return (s[0]-1)*np.exp(4*(2-s[0]))/(np.exp(4*(2-s[0]))+np.exp(4*(2-s[1]))-1)"
   ]
  },
  {
   "cell_type": "code",
   "execution_count": 1,
   "metadata": {},
   "outputs": [],
   "source": [
    "def env(A,pi):\n",
    "    #input: a vector which represent the set of prices that can be choosen\n",
    "    #       a function which calculate profits thanks to the given prices\n",
    "    #output: a matrix m*m which gives the profits for the player i in function of his prices (in rows) and the price of his concurrent (in column) \n",
    "    env = np.zeros((len(A),len(A)))\n",
    "    for i in range (len(A)):\n",
    "        for j in range (len(A)):\n",
    "            env[i,j] = pi([A[i],A[j]])\n",
    "    return env  "
   ]
  },
  {
   "cell_type": "code",
   "execution_count": 2,
   "metadata": {},
   "outputs": [],
   "source": [
    "def epsilon(beta,t):\n",
    "    #return the value of epsilon at the moment t\n",
    "    return np.exp(-beta*t)"
   ]
  },
  {
   "cell_type": "code",
   "execution_count": null,
   "metadata": {},
   "outputs": [],
   "source": [
    "def q_values(env):\n",
    "    #3D array to hold the current Q values for each state and action\n",
    "    return np.zeros((len(env),len(env),len(env)))"
   ]
  },
  {
   "cell_type": "code",
   "execution_count": null,
   "metadata": {},
   "outputs": [],
   "source": [
    "#current_row_index = index of the price set by the player\n",
    "#current_column_index = index of the price set by  his concurrent\n",
    "def get_next_action(current_row_index, current_column_index,epsilon,m):\n",
    "    if np.random.random() < 1-epsilon: \n",
    "        return np.argmax(q_values[current_row_index,current_column_index])\n",
    "    else: \n",
    "        return np.random.randint(m)\n",
    "    "
   ]
  }
 ],
 "metadata": {
  "kernelspec": {
   "display_name": "Python 3",
   "language": "python",
   "name": "python3"
  },
  "language_info": {
   "codemirror_mode": {
    "name": "ipython",
    "version": 3
   },
   "file_extension": ".py",
   "mimetype": "text/x-python",
   "name": "python",
   "nbconvert_exporter": "python",
   "pygments_lexer": "ipython3",
   "version": "3.9.0"
  },
  "orig_nbformat": 4
 },
 "nbformat": 4,
 "nbformat_minor": 2
}
