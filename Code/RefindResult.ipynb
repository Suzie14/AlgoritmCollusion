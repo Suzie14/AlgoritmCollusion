{
 "cells": [
  {
   "cell_type": "code",
   "execution_count": 130,
   "metadata": {},
   "outputs": [],
   "source": [
    "import numpy as np\n",
    "import matplotlib.pyplot as plt\n",
    "import pandas as pd"
   ]
  },
  {
   "cell_type": "code",
   "execution_count": 131,
   "metadata": {},
   "outputs": [],
   "source": [
    "def dev_pi(x,y):\n",
    "    return (x-1)*(-4*np.exp(4*(2-x))*(np.exp(4*(2-y))-1))/(np.exp(4*(2-x))+np.exp(4*(2-y))-1)**2 + np.exp(4*(2-y))/(np.exp(4*(2-x))+np.exp(4*(2-y))-1)"
   ]
  },
  {
   "cell_type": "code",
   "execution_count": 132,
   "metadata": {},
   "outputs": [
    {
     "name": "stdout",
     "output_type": "stream",
     "text": [
      "Using matplotlib backend: MacOSX\n"
     ]
    }
   ],
   "source": [
    "%matplotlib\n",
    "from mpl_toolkits.mplot3d import axes3d  # Fonction pour la 3D\n",
    "from matplotlib import cm\n",
    "from matplotlib.ticker import LinearLocator, FormatStrFormatter\n",
    "\n",
    "# Tableau pour les 3 axes\n",
    "# Création d'une fonction\n",
    "derivée_profit = lambda x, y: dev_pi(x,y)\n",
    "# Création d'un domaine d'étude X, Y\n",
    "x = np.linspace(0, 2, 100)\n",
    "y = np.linspace(0, 2, 100)\n",
    "X, Y = np.meshgrid(x, y)\n",
    "Z = derivée_profit(X,Y)\n",
    "\n",
    "\n",
    "# Tracé du résultat en 3D\n",
    "fig = plt.figure()\n",
    "ax = fig.gca(projection='3d')  # Affichage en 3D\n",
    "ax.plot_surface(X, Y, Z, cmap=cm.coolwarm, linewidth=0)  # Tracé d'une surface\n",
    "plt.title(\"Tracé d'une surface\")\n",
    "ax.set_xlabel('X')\n",
    "ax.set_ylabel('Y')\n",
    "ax.set_zlabel('Z')\n",
    "plt.tight_layout()\n",
    "plt.show()"
   ]
  },
  {
   "cell_type": "code",
   "execution_count": 133,
   "metadata": {},
   "outputs": [
    {
     "name": "stdout",
     "output_type": "stream",
     "text": [
      "Using matplotlib backend: MacOSX\n"
     ]
    }
   ],
   "source": [
    "%matplotlib\n",
    "from mpl_toolkits.mplot3d import axes3d  # Fonction pour la 3D\n",
    "from matplotlib import cm\n",
    "from matplotlib.ticker import LinearLocator, FormatStrFormatter\n",
    "\n",
    "# Tableau pour les 3 axes\n",
    "# Création d'une fonction\n",
    "derivée_profit = lambda x, y: dev_pi(x,y)\n",
    "# Création d'un domaine d'étude X, Y\n",
    "x = np.linspace(0, 2, 100)\n",
    "y = np.linspace(0, 2, 100)\n",
    "X, Y = np.meshgrid(x, y)\n",
    "Z = derivée_profit(X,Y)\n",
    "\n",
    "\n",
    "# Tracé du résultat en 3D\n",
    "fig = plt.figure()\n",
    "ax = fig.gca(projection='3d')  # Affichage en 3D\n",
    "ax.plot_surface(X, Y, Z, cmap=cm.coolwarm, linewidth=0)  # Tracé d'une surface\n",
    "plt.title(\"Tracé d'une surface\")\n",
    "ax.set_xlabel('X')\n",
    "ax.set_ylabel('Y')\n",
    "ax.set_zlabel('Z')\n",
    "plt.tight_layout()\n",
    "plt.show()"
   ]
  },
  {
   "cell_type": "code",
   "execution_count": 134,
   "metadata": {},
   "outputs": [
    {
     "name": "stdout",
     "output_type": "stream",
     "text": [
      "Defaulting to user installation because normal site-packages is not writeable\n",
      "Requirement already satisfied: scipy in /Users/Suzie/Library/Python/3.9/lib/python/site-packages (1.11.0)\n",
      "Requirement already satisfied: numpy<1.28.0,>=1.21.6 in /Users/Suzie/Library/Python/3.9/lib/python/site-packages (from scipy) (1.25.0)\n",
      "\u001b[33mWARNING: You are using pip version 20.3.3; however, version 23.1.2 is available.\n",
      "You should consider upgrading via the '/usr/local/bin/python3 -m pip install --upgrade pip' command.\u001b[0m\n",
      "Note: you may need to restart the kernel to use updated packages.\n"
     ]
    }
   ],
   "source": [
    "pip install scipy"
   ]
  },
  {
   "cell_type": "code",
   "execution_count": 135,
   "metadata": {},
   "outputs": [],
   "source": [
    "from scipy.special import lambertw"
   ]
  },
  {
   "cell_type": "code",
   "execution_count": 136,
   "metadata": {},
   "outputs": [],
   "source": [
    "def f1(x):\n",
    "    #f1 = gamma/4\n",
    "    return np.exp(4*(2-x))-1"
   ]
  },
  {
   "cell_type": "code",
   "execution_count": 137,
   "metadata": {},
   "outputs": [],
   "source": [
    "def delta(x):\n",
    "    return f1(x)*np.exp(3*f1(x))"
   ]
  },
  {
   "cell_type": "code",
   "execution_count": 138,
   "metadata": {},
   "outputs": [
    {
     "name": "stderr",
     "output_type": "stream",
     "text": [
      "/var/folders/1v/lw80nwsd61d7sp0q_pzj0ppm0000gp/T/ipykernel_666/3005812028.py:2: RuntimeWarning: overflow encountered in exp\n",
      "  return f1(x)*np.exp(3*f1(x))\n",
      "/var/folders/1v/lw80nwsd61d7sp0q_pzj0ppm0000gp/T/ipykernel_666/3005812028.py:2: RuntimeWarning: overflow encountered in multiply\n",
      "  return f1(x)*np.exp(3*f1(x))\n"
     ]
    }
   ],
   "source": [
    "x = np.linspace(0, 2, 10000)\n",
    "y = delta(x)\n",
    "plt.plot(x,y)\n",
    "\n",
    "plt.show()"
   ]
  },
  {
   "cell_type": "code",
   "execution_count": 139,
   "metadata": {},
   "outputs": [
    {
     "name": "stderr",
     "output_type": "stream",
     "text": [
      "/Library/Frameworks/Python.framework/Versions/3.9/lib/python3.9/site-packages/matplotlib/ticker.py:2234: RuntimeWarning: overflow encountered in multiply\n",
      "  steps = self._extended_steps * scale\n",
      "/Library/Frameworks/Python.framework/Versions/3.9/lib/python3.9/site-packages/mpl_toolkits/mplot3d/axis3d.py:260: RuntimeWarning: overflow encountered in add\n",
      "  lxyz = 0.5 * (edgep1 + edgep2)\n",
      "/Library/Frameworks/Python.framework/Versions/3.9/lib/python3.9/site-packages/mpl_toolkits/mplot3d/proj3d.py:109: RuntimeWarning: invalid value encountered in scalar divide\n",
      "  txs, tys, tzs = vecw[0]/w, vecw[1]/w, vecw[2]/w\n",
      "posx and posy should be finite values\n"
     ]
    },
    {
     "name": "stderr",
     "output_type": "stream",
     "text": [
      "/Library/Frameworks/Python.framework/Versions/3.9/lib/python3.9/site-packages/mpl_toolkits/mplot3d/proj3d.py:109: RuntimeWarning: invalid value encountered in divide\n",
      "  txs, tys, tzs = vecw[0]/w, vecw[1]/w, vecw[2]/w\n"
     ]
    }
   ],
   "source": [
    "def f2(x):\n",
    "    return 2+1/4*lambertw(f1(x)*np.exp(3*f1(x)))-3/4*f1(x)"
   ]
  },
  {
   "cell_type": "code",
   "execution_count": 140,
   "metadata": {},
   "outputs": [],
   "source": [
    "def g(x):\n",
    "    return f2(f2(x))-x"
   ]
  },
  {
   "cell_type": "code",
   "execution_count": 141,
   "metadata": {},
   "outputs": [],
   "source": [
    "def Balayage(f,k,init,epsilon):\n",
    "    #Résoudre f(x) = k\n",
    "    sol = init\n",
    "    while f(sol)>= k:\n",
    "        sol=sol+epsilon\n",
    "    return sol"
   ]
  },
  {
   "cell_type": "code",
   "execution_count": 142,
   "metadata": {},
   "outputs": [],
   "source": [
    "y = Balayage(g,0,1,0.001)"
   ]
  },
  {
   "cell_type": "code",
   "execution_count": 143,
   "metadata": {},
   "outputs": [],
   "source": [
    "def f2bis(x):\n",
    "    #deuxième sol de lambert lorsque delta in (-1/e,0)\n",
    "    return 2+1/4*lambertw(f1(x)*np.exp(3*f1(x)),k=-1)-3/4*f1(x)"
   ]
  },
  {
   "cell_type": "markdown",
   "metadata": {},
   "source": []
  },
  {
   "cell_type": "code",
   "execution_count": 144,
   "metadata": {},
   "outputs": [],
   "source": [
    "def gbis(x): \n",
    "    return f2bis(f2bis(x))-x"
   ]
  },
  {
   "cell_type": "code",
   "execution_count": 145,
   "metadata": {},
   "outputs": [],
   "source": [
    "ybis=Balayage(gbis,0,1,0.001)"
   ]
  },
  {
   "cell_type": "code",
   "execution_count": 146,
   "metadata": {},
   "outputs": [],
   "source": [
    "def gter(x):\n",
    "    return f2(f2bis(x))-x"
   ]
  },
  {
   "cell_type": "code",
   "execution_count": 147,
   "metadata": {},
   "outputs": [
    {
     "name": "stderr",
     "output_type": "stream",
     "text": [
      "/var/folders/1v/lw80nwsd61d7sp0q_pzj0ppm0000gp/T/ipykernel_666/1309421416.py:2: RuntimeWarning: overflow encountered in exp\n",
      "  return 2+1/4*lambertw(f1(x)*np.exp(3*f1(x)))-3/4*f1(x)\n",
      "/var/folders/1v/lw80nwsd61d7sp0q_pzj0ppm0000gp/T/ipykernel_666/1309421416.py:2: RuntimeWarning: invalid value encountered in scalar multiply\n",
      "  return 2+1/4*lambertw(f1(x)*np.exp(3*f1(x)))-3/4*f1(x)\n"
     ]
    }
   ],
   "source": [
    "yter= Balayage(gter,0,1,0.00001)"
   ]
  },
  {
   "cell_type": "code",
   "execution_count": 148,
   "metadata": {},
   "outputs": [
    {
     "data": {
      "text/plain": [
       "2.000000000006551"
      ]
     },
     "execution_count": 148,
     "metadata": {},
     "output_type": "execute_result"
    }
   ],
   "source": [
    "yter"
   ]
  },
  {
   "cell_type": "code",
   "execution_count": 156,
   "metadata": {},
   "outputs": [
    {
     "data": {
      "text/plain": [
       "(2.0000000000131024+0j)"
      ]
     },
     "execution_count": 156,
     "metadata": {},
     "output_type": "execute_result"
    }
   ],
   "source": [
    "f2(yter)"
   ]
  },
  {
   "cell_type": "code",
   "execution_count": 149,
   "metadata": {},
   "outputs": [],
   "source": [
    "def gquadra(x):\n",
    "    return f2bis(f2(x))-x"
   ]
  },
  {
   "cell_type": "code",
   "execution_count": 150,
   "metadata": {},
   "outputs": [],
   "source": [
    "yquadra = Balayage(gquadra,0,1,0.001)"
   ]
  },
  {
   "cell_type": "code",
   "execution_count": 151,
   "metadata": {},
   "outputs": [
    {
     "data": {
      "text/plain": [
       "1.661999999999927"
      ]
     },
     "execution_count": 151,
     "metadata": {},
     "output_type": "execute_result"
    }
   ],
   "source": [
    "yquadra"
   ]
  },
  {
   "cell_type": "code",
   "execution_count": 160,
   "metadata": {},
   "outputs": [
    {
     "data": {
      "text/plain": [
       "(2.0000000000524096+0j)"
      ]
     },
     "execution_count": 160,
     "metadata": {},
     "output_type": "execute_result"
    }
   ],
   "source": [
    "f2(f2(f2(f2(yter))))"
   ]
  },
  {
   "cell_type": "code",
   "execution_count": 152,
   "metadata": {},
   "outputs": [
    {
     "data": {
      "text/plain": [
       "(1.784519802309065+0j)"
      ]
     },
     "execution_count": 152,
     "metadata": {},
     "output_type": "execute_result"
    }
   ],
   "source": [
    "f2(y)"
   ]
  },
  {
   "cell_type": "code",
   "execution_count": 153,
   "metadata": {},
   "outputs": [],
   "source": [
    "def PriceCostMargin(price,cost):\n",
    "    return ((price-cost)/price)*100\n",
    "    "
   ]
  },
  {
   "cell_type": "code",
   "execution_count": 154,
   "metadata": {},
   "outputs": [
    {
     "data": {
      "text/plain": [
       "43.97759103641185"
      ]
     },
     "execution_count": 154,
     "metadata": {},
     "output_type": "execute_result"
    }
   ],
   "source": [
    "PriceCostMargin(y,1)"
   ]
  },
  {
   "cell_type": "code",
   "execution_count": 155,
   "metadata": {},
   "outputs": [
    {
     "data": {
      "text/plain": [
       "48.24016563146723"
      ]
     },
     "execution_count": 155,
     "metadata": {},
     "output_type": "execute_result"
    }
   ],
   "source": [
    "PriceCostMargin(ybis,1)"
   ]
  }
 ],
 "metadata": {
  "kernelspec": {
   "display_name": "Python 3",
   "language": "python",
   "name": "python3"
  },
  "language_info": {
   "codemirror_mode": {
    "name": "ipython",
    "version": 3
   },
   "file_extension": ".py",
   "mimetype": "text/x-python",
   "name": "python",
   "nbconvert_exporter": "python",
   "pygments_lexer": "ipython3",
   "version": "3.9.0"
  },
  "orig_nbformat": 4
 },
 "nbformat": 4,
 "nbformat_minor": 2
}
