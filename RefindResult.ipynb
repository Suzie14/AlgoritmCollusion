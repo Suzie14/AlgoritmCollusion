{
 "cells": [
  {
   "cell_type": "code",
   "execution_count": 2,
   "metadata": {},
   "outputs": [],
   "source": [
    "import numpy as np\n",
    "import matplotlib.pyplot as plt\n",
    "import pandas as pd"
   ]
  },
  {
   "cell_type": "code",
   "execution_count": 23,
   "metadata": {},
   "outputs": [],
   "source": [
    "def dev_pi(x,y):\n",
    "    return (x-1)*(-4*np.exp(4*(2-x))*(np.exp(4*(2-y))-1))/(np.exp(4*(2-x))+np.exp(4*(2-y))-1)**2 + np.exp(4*(2-y))/(np.exp(4*(2-x))+np.exp(4*(2-y))-1)"
   ]
  },
  {
   "cell_type": "code",
   "execution_count": 29,
   "metadata": {},
   "outputs": [
    {
     "name": "stdout",
     "output_type": "stream",
     "text": [
      "Using matplotlib backend: MacOSX\n"
     ]
    }
   ],
   "source": [
    "%matplotlib\n",
    "from mpl_toolkits.mplot3d import axes3d  # Fonction pour la 3D\n",
    "from matplotlib import cm\n",
    "from matplotlib.ticker import LinearLocator, FormatStrFormatter\n",
    "\n",
    "# Tableau pour les 3 axes\n",
    "# Création d'une fonction\n",
    "derivée_profit = lambda x, y: dev_pi(x,y)\n",
    "# Création d'un domaine d'étude X, Y\n",
    "x = np.linspace(0, 2, 100)\n",
    "y = np.linspace(0, 2, 100)\n",
    "X, Y = np.meshgrid(x, y)\n",
    "Z = derivée_profit(X,Y)\n",
    "\n",
    "\n",
    "# Tracé du résultat en 3D\n",
    "fig = plt.figure()\n",
    "ax = fig.gca(projection='3d')  # Affichage en 3D\n",
    "ax.plot_surface(X, Y, Z, cmap=cm.coolwarm, linewidth=0)  # Tracé d'une surface\n",
    "plt.title(\"Tracé d'une surface\")\n",
    "ax.set_xlabel('X')\n",
    "ax.set_ylabel('Y')\n",
    "ax.set_zlabel('Z')\n",
    "plt.tight_layout()\n",
    "plt.show()"
   ]
  },
  {
   "cell_type": "code",
   "execution_count": 34,
   "metadata": {},
   "outputs": [
    {
     "name": "stdout",
     "output_type": "stream",
     "text": [
      "Using matplotlib backend: MacOSX\n"
     ]
    }
   ],
   "source": [
    "%matplotlib\n",
    "from mpl_toolkits.mplot3d import axes3d  # Fonction pour la 3D\n",
    "from matplotlib import cm\n",
    "from matplotlib.ticker import LinearLocator, FormatStrFormatter\n",
    "\n",
    "# Tableau pour les 3 axes\n",
    "# Création d'une fonction\n",
    "derivée_profit = lambda x, y: dev_pi(x,y)\n",
    "# Création d'un domaine d'étude X, Y\n",
    "x = np.linspace(2.1, 3, 100)\n",
    "y = np.linspace(2.1, 3, 100)\n",
    "X, Y = np.meshgrid(x, y)\n",
    "Z = derivée_profit(X,Y)\n",
    "\n",
    "\n",
    "# Tracé du résultat en 3D\n",
    "fig = plt.figure()\n",
    "ax = fig.gca(projection='3d')  # Affichage en 3D\n",
    "ax.plot_surface(X, Y, Z, cmap=cm.coolwarm, linewidth=0)  # Tracé d'une surface\n",
    "plt.title(\"Tracé d'une surface\")\n",
    "ax.set_xlabel('X')\n",
    "ax.set_ylabel('Y')\n",
    "ax.set_zlabel('Z')\n",
    "plt.tight_layout()\n",
    "plt.show()"
   ]
  },
  {
   "cell_type": "code",
   "execution_count": 3,
   "metadata": {},
   "outputs": [
    {
     "name": "stdout",
     "output_type": "stream",
     "text": [
      "Defaulting to user installation because normal site-packages is not writeable\n",
      "Requirement already satisfied: scipy in /Users/Suzie/Library/Python/3.9/lib/python/site-packages (1.11.0)\n",
      "Requirement already satisfied: numpy<1.28.0,>=1.21.6 in /Users/Suzie/Library/Python/3.9/lib/python/site-packages (from scipy) (1.25.0)\n",
      "\u001b[33mWARNING: You are using pip version 20.3.3; however, version 23.1.2 is available.\n",
      "You should consider upgrading via the '/usr/local/bin/python3 -m pip install --upgrade pip' command.\u001b[0m\n",
      "Note: you may need to restart the kernel to use updated packages.\n"
     ]
    }
   ],
   "source": [
    "pip install scipy"
   ]
  },
  {
   "cell_type": "code",
   "execution_count": 4,
   "metadata": {},
   "outputs": [],
   "source": [
    "from scipy.special import lambertw"
   ]
  },
  {
   "cell_type": "code",
   "execution_count": 5,
   "metadata": {},
   "outputs": [],
   "source": [
    "def f1(x):\n",
    "    #f1 = gamma/4\n",
    "    return np.exp(4*(2-x))-1"
   ]
  },
  {
   "cell_type": "code",
   "execution_count": 6,
   "metadata": {},
   "outputs": [],
   "source": [
    "def f2(x):\n",
    "    return 2+1/4*lambertw(f1(x)*np.exp(3*f1(x)))-3/4*f1(x)"
   ]
  },
  {
   "cell_type": "code",
   "execution_count": 7,
   "metadata": {},
   "outputs": [],
   "source": [
    "def g(x):\n",
    "    return f2(f2(x))-x"
   ]
  },
  {
   "cell_type": "code",
   "execution_count": 8,
   "metadata": {},
   "outputs": [],
   "source": [
    "def Balayage(f,k,init,epsilon):\n",
    "    #Résoudre f(x) = k\n",
    "    sol = init\n",
    "    while f(sol)>= k:\n",
    "        sol=sol+epsilon\n",
    "    return sol"
   ]
  },
  {
   "cell_type": "code",
   "execution_count": 9,
   "metadata": {},
   "outputs": [],
   "source": [
    "y=Balayage(g,0,1,0.001)"
   ]
  },
  {
   "cell_type": "code",
   "execution_count": 10,
   "metadata": {},
   "outputs": [],
   "source": [
    "def f2bis(x):\n",
    "    #deuxième sol de lambert lorsque delta in (-1/e,0)\n",
    "    return 2+1/4*lambertw(f1(x)*np.exp(3*f1(x)),k=-1)-3/4*f1(x)"
   ]
  },
  {
   "cell_type": "markdown",
   "metadata": {},
   "source": []
  },
  {
   "cell_type": "code",
   "execution_count": 11,
   "metadata": {},
   "outputs": [],
   "source": [
    "def gbis(x): \n",
    "    return f2bis(f2bis(x))-x"
   ]
  },
  {
   "cell_type": "code",
   "execution_count": 12,
   "metadata": {},
   "outputs": [],
   "source": [
    "ybis=Balayage(gbis,0,1,0.001)"
   ]
  },
  {
   "cell_type": "code",
   "execution_count": 14,
   "metadata": {},
   "outputs": [],
   "source": [
    "def PriceCostMargin(price,cost):\n",
    "    return ((price-cost)/price)*100\n",
    "    "
   ]
  },
  {
   "cell_type": "code",
   "execution_count": 15,
   "metadata": {},
   "outputs": [
    {
     "data": {
      "text/plain": [
       "43.97759103641185"
      ]
     },
     "execution_count": 15,
     "metadata": {},
     "output_type": "execute_result"
    }
   ],
   "source": [
    "PriceCostMargin(y,1)"
   ]
  },
  {
   "cell_type": "code",
   "execution_count": 16,
   "metadata": {},
   "outputs": [
    {
     "data": {
      "text/plain": [
       "48.24016563146723"
      ]
     },
     "execution_count": 16,
     "metadata": {},
     "output_type": "execute_result"
    }
   ],
   "source": [
    "PriceCostMargin(ybis,1)"
   ]
  }
 ],
 "metadata": {
  "kernelspec": {
   "display_name": "Python 3",
   "language": "python",
   "name": "python3"
  },
  "language_info": {
   "codemirror_mode": {
    "name": "ipython",
    "version": 3
   },
   "file_extension": ".py",
   "mimetype": "text/x-python",
   "name": "python",
   "nbconvert_exporter": "python",
   "pygments_lexer": "ipython3",
   "version": "3.9.0"
  },
  "orig_nbformat": 4
 },
 "nbformat": 4,
 "nbformat_minor": 2
}
